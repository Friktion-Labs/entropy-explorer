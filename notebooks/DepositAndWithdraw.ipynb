{
 "cells": [
  {
   "cell_type": "markdown",
   "id": "1c81447d",
   "metadata": {},
   "source": [
    "[🥭 Entropy Markets](https://entropy.markets/) support is available at: [Docs](https://docs.entropy.markets/) | [Discord](https://discord.gg/67jySBhxrg) | [Twitter](https://twitter.com/entropymarkets) | [Github](https://github.com/blockworks-foundation) | [Email](mailto:hello@blockworks.foundation)\n",
    "\n",
    "[![Binder](https://mybinder.org/badge_logo.svg)](https://mybinder.org/v2/gh/blockworks-foundation/entropy-explorer-examples/HEAD?labpath=DepositAndWithdraw.ipynb) [Run this code](https://mybinder.org/v2/gh/blockworks-foundation/entropy-explorer-examples/HEAD?labpath=DepositAndWithdraw.ipynb) on Binder.\n",
    "\n",
    "_🏃‍♀️ To run this notebook press the ⏩ icon in the toolbar above._"
   ]
  },
  {
   "cell_type": "markdown",
   "id": "055fbf67",
   "metadata": {},
   "source": [
    "# 🥭 Deposit and Withdraw\n",
    "\n",
    "This notebook shows how to deposit a quantity of a specific token into a Entropy Account, and then withdraw it.\n",
    "\n",
    "This involves using Entropy's root and node banks. Root banks keep track of tokens deposited across all Entropy accounts, and node banks hold the actual tokens themselves. Much of this is handled for you by the `Account` object but it's possible to perform all the steps manually if you need to alter parts of the process."
   ]
  },
  {
   "cell_type": "code",
   "execution_count": null,
   "id": "88779eaa",
   "metadata": {},
   "outputs": [],
   "source": [
    "import decimal\n",
    "import entropy\n",
    "\n",
    "\n",
    "# Use this function to display balances because it always fetches fresh data\n",
    "def show_balances(context, wallet, group, sol_token):\n",
    "    # Find the current SPL token balance\n",
    "    token_account = entropy.TokenAccount.fetch_largest_for_owner_and_token(context, wallet.address, sol_token)\n",
    "    print(\"Wrapped SOL in wallet:\", token_account.value)\n",
    "\n",
    "    # Find the SOL-specific details in the account\n",
    "    accounts = entropy.Account.load_all_for_owner(context, wallet.address, group)\n",
    "    for slot in accounts[0].slots:\n",
    "        if slot.base_instrument == sol_token:\n",
    "            print(\"Wrapped SOL in account\", slot.net_value)\n",
    "            print()\n",
    "            return\n",
    "\n",
    "\n",
    "# Use our hard-coded mainnet wallet for DeekipCw5jz7UgQbtUbHQckTYGKXWaPQV4xY93DaiM6h.\n",
    "# For real-world use you'd load the bytes from the environment or a file.\n",
    "wallet = entropy.Wallet(bytes([181,213,227,47,41,229,109,138,15,82,26,7,230,184,88,102,197,215,238,155,136,196,138,92,98,154,67,68,47,140,90,40,248,149,223,193,241,51,4,196,126,32,211,66,90,137,249,160,132,246,38,29,88,16,252,116,12,83,117,158,40,98,178,54]))\n",
    "\n",
    "# Signers are effectively an empty CombinableInstruction that only carries the keys for\n",
    "# signing transactions\n",
    "signers: entropy.CombinableInstructions = entropy.CombinableInstructions.from_wallet(wallet)\n",
    "\n",
    "# Create a 'mainnet' Context\n",
    "with entropy.ContextBuilder.build(cluster_name=\"mainnet\") as context:\n",
    "    # Entropy accounts are per-Group, so we need to load the Group first.\n",
    "    group = entropy.Group.load(context)\n",
    "\n",
    "    # Find the wrapped SOL token\n",
    "    sol_token = context.instrument_lookup.find_by_symbol_or_raise(\"SOL\")\n",
    "\n",
    "    print(\"Before:\")\n",
    "    show_balances(context, wallet, group, sol_token)\n",
    "\n",
    "    accounts = entropy.Account.load_all_for_owner(context, wallet.address, group)\n",
    "    account = accounts[0]\n",
    "\n",
    "    print(\"Depositing 0.5 SOL:\")\n",
    "\n",
    "    deposit_value = entropy.InstrumentValue(sol_token, decimal.Decimal(\"0.5\"))\n",
    "    deposit_signatures = account.deposit(context, wallet, deposit_value)\n",
    "    print(\"Deposit transaction signatures:\", deposit_signatures)\n",
    "\n",
    "    print(\"Waiting for deposit transaction to confirm...\\n\")\n",
    "    entropy.WebSocketTransactionMonitor.wait_for_all(\n",
    "            context.client.cluster_ws_url, deposit_signatures, commitment=\"processed\"\n",
    "        )\n",
    "\n",
    "    print(\"After deposit:\")\n",
    "    show_balances(context, wallet, group, sol_token)\n",
    "\n",
    "    print(\"Withdrawing 0.5 SOL:\")\n",
    "\n",
    "    withdrawal_value = entropy.InstrumentValue(sol_token, decimal.Decimal(\"0.5\"))\n",
    "    withdrawal_signatures = account.withdraw(context, wallet, withdrawal_value, False)\n",
    "    print(\"Withdrawal transaction signatures:\", withdrawal_signatures)\n",
    "\n",
    "    print(\"Waiting for withdraw transaction to confirm...\\n\")\n",
    "    entropy.WebSocketTransactionMonitor.wait_for_all(\n",
    "            context.client.cluster_ws_url, withdrawal_signatures, commitment=\"processed\"\n",
    "        )\n",
    "\n",
    "    print(\"After withdrawal:\")\n",
    "    show_balances(context, wallet, group, sol_token)\n",
    "\n",
    "print(\"Example complete.\")"
   ]
  }
 ],
 "metadata": {
  "interpreter": {
   "hash": "ac2eaa0ea0ebeafcc7822e65e46aa9d4f966f30b695406963e145ea4a91cd4fc"
  },
  "kernelspec": {
   "display_name": "Python 3 (ipykernel)",
   "language": "python",
   "name": "python3"
  },
  "language_info": {
   "codemirror_mode": {
    "name": "ipython",
    "version": 3
   },
   "file_extension": ".py",
   "mimetype": "text/x-python",
   "name": "python",
   "nbconvert_exporter": "python",
   "pygments_lexer": "ipython3",
   "version": "3.9.10"
  },
  "metadata": {
   "interpreter": {
    "hash": "ac2eaa0ea0ebeafcc7822e65e46aa9d4f966f30b695406963e145ea4a91cd4fc"
   }
  },
  "toc": {
   "base_numbering": 1,
   "nav_menu": {},
   "number_sections": true,
   "sideBar": true,
   "skip_h1_title": false,
   "title_cell": "Table of Contents",
   "title_sidebar": "Contents",
   "toc_cell": false,
   "toc_position": {},
   "toc_section_display": true,
   "toc_window_display": true
  },
  "varInspector": {
   "cols": {
    "lenName": 16,
    "lenType": 16,
    "lenVar": 40
   },
   "kernels_config": {
    "python": {
     "delete_cmd_postfix": "",
     "delete_cmd_prefix": "del ",
     "library": "var_list.py",
     "varRefreshCmd": "print(var_dic_list())"
    },
    "r": {
     "delete_cmd_postfix": ") ",
     "delete_cmd_prefix": "rm(",
     "library": "var_list.r",
     "varRefreshCmd": "cat(var_dic_list()) "
    }
   },
   "types_to_exclude": [
    "module",
    "function",
    "builtin_function_or_method",
    "instance",
    "_Feature"
   ],
   "window_display": false
  }
 },
 "nbformat": 4,
 "nbformat_minor": 5
}
