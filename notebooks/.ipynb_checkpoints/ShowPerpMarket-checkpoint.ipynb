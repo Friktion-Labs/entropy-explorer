{
 "cells": [
  {
   "cell_type": "markdown",
   "id": "1c81447d",
   "metadata": {},
   "source": [
    "[🥭 Entropy Markets](https://entropy.markets/) support is available at: [Docs](https://docs.entropy.markets/) | [Discord](https://discord.gg/67jySBhxrg) | [Twitter](https://twitter.com/entropymarkets) | [Github](https://github.com/blockworks-foundation) | [Email](mailto:hello@blockworks.foundation)\n",
    "\n",
    "[![Binder](https://mybinder.org/badge_logo.svg)](https://mybinder.org/v2/gh/blockworks-foundation/entropy-explorer-examples/HEAD?labpath=ShowPerpMarket.ipynb) [Run this code](https://mybinder.org/v2/gh/blockworks-foundation/entropy-explorer-examples/HEAD?labpath=ShowPerpMarket.ipynb) on Binder.\n",
    "\n",
    "_🏃‍♀️ To run this notebook press the ⏩ icon in the toolbar above._"
   ]
  },
  {
   "cell_type": "markdown",
   "id": "055fbf67",
   "metadata": {},
   "source": [
    "# 🥭 Show Perp Market\n",
    "\n",
    "This code will connect to the _mainnet_ cluster and show important data from a Entropy Perp Market."
   ]
  },
  {
   "cell_type": "code",
   "execution_count": 1,
   "id": "88779eaa",
   "metadata": {},
   "outputs": [
    {
     "name": "stdout",
     "output_type": "stream",
     "text": [
      "« PerpMarket BTC-PERP 9GE4Q4RR6jTXZSGMf9GK4purKxSPVgRCVM7WLqxi8k8i [FcfzrnurPFXwxbx332wScnD5P86DwhpLpBbQsnr6LcH5]\n",
      "    « PerpMarketDetails Version.V1 [9GE4Q4RR6jTXZSGMf9GK4purKxSPVgRCVM7WLqxi8k8i]\n",
      "        « Metadata Version.V1 - PerpMarket: Initialized »\n",
      "        Group: EAhqxJge6VCXH5KaPEmDzz4DoKGfHgCotmpC8xGvBju2\n",
      "        Bids: C8TndWTrQKwsp3W1Mihe8RFT4DyeXQJgJz1vuBhRdRt2\n",
      "        Asks: 4cnGzmH3hrAPDQe9wYd51zvH1mPc7KyYP53s1nZp8jHP\n",
      "        Event Queue: 3ekhcdW9h5GRrpYVu9nRAmG6nXtNGru6wPCSRg5vXtFX\n",
      "        Long Funding: -207305.00098459677482765073\n",
      "        Short Funding: -229238.92771731531558998540\n",
      "        Open Interest: 170722\n",
      "        Base Lot Size: 100\n",
      "        Quote Lot Size: 10\n",
      "        Last Updated: 2022-04-23 03:34:46+00:00\n",
      "        Seq Num: 144110\n",
      "        Fees Accrued: 197475767.17995498427446676715\n",
      "        MNGO Vault: 83LWa9Xuu9Q3o2uoa3wG27ZpTXgHQJbSv49qqdiUDgfz\n",
      "            « LiquidityMiningInfo Version.V1\n",
      "                Period Start     : 2022-03-08 08:30:32+00:00\n",
      "                Period End (Est.): 2022-04-23 03:34:49+00:00\n",
      "                Target Duration  : 1:00:00 hours\n",
      "                Elapsed          : 45 days, 19:04:17 hours\n",
      "                Duration (Est.)  : 45 days, 19:04:17 hours\n",
      "                Remaining (Est.) : 0:00:00 hours\n",
      "                Max Depth Bps    : 200.00000000000000000000\n",
      "                MNGO Per Period  : « InstrumentValue:         0.00000000 USDC »\n",
      "                MNGO Remaining   : « InstrumentValue:         0.00000000 USDC »\n",
      "                MNGO Distributed : « InstrumentValue:         0.00000000 USDC »\n",
      "                % Distributed    : 0.00%\n",
      "                Rate             : 1.00000000000000000000\n",
      "            »\n",
      "    »\n",
      "»\n",
      "Example complete.\n"
     ]
    }
   ],
   "source": [
    "import entropy\n",
    "\n",
    "with entropy.ContextBuilder.build(cluster_name=\"mainnet\") as context:\n",
    "    perp_market = entropy.market(context, \"BTC-PERP\")\n",
    "    print(perp_market)\n",
    "\n",
    "print(\"Example complete.\")"
   ]
  },
  {
   "cell_type": "code",
   "execution_count": null,
   "id": "bdf6ed17",
   "metadata": {},
   "outputs": [],
   "source": []
  }
 ],
 "metadata": {
  "interpreter": {
   "hash": "ac2eaa0ea0ebeafcc7822e65e46aa9d4f966f30b695406963e145ea4a91cd4fc"
  },
  "kernelspec": {
   "display_name": "Python 3 (ipykernel)",
   "language": "python",
   "name": "python3"
  },
  "language_info": {
   "codemirror_mode": {
    "name": "ipython",
    "version": 3
   },
   "file_extension": ".py",
   "mimetype": "text/x-python",
   "name": "python",
   "nbconvert_exporter": "python",
   "pygments_lexer": "ipython3",
   "version": "3.8.9"
  },
  "metadata": {
   "interpreter": {
    "hash": "ac2eaa0ea0ebeafcc7822e65e46aa9d4f966f30b695406963e145ea4a91cd4fc"
   }
  },
  "toc": {
   "base_numbering": 1,
   "nav_menu": {},
   "number_sections": true,
   "sideBar": true,
   "skip_h1_title": false,
   "title_cell": "Table of Contents",
   "title_sidebar": "Contents",
   "toc_cell": false,
   "toc_position": {},
   "toc_section_display": true,
   "toc_window_display": true
  },
  "varInspector": {
   "cols": {
    "lenName": 16,
    "lenType": 16,
    "lenVar": 40
   },
   "kernels_config": {
    "python": {
     "delete_cmd_postfix": "",
     "delete_cmd_prefix": "del ",
     "library": "var_list.py",
     "varRefreshCmd": "print(var_dic_list())"
    },
    "r": {
     "delete_cmd_postfix": ") ",
     "delete_cmd_prefix": "rm(",
     "library": "var_list.r",
     "varRefreshCmd": "cat(var_dic_list()) "
    }
   },
   "types_to_exclude": [
    "module",
    "function",
    "builtin_function_or_method",
    "instance",
    "_Feature"
   ],
   "window_display": false
  }
 },
 "nbformat": 4,
 "nbformat_minor": 5
}
