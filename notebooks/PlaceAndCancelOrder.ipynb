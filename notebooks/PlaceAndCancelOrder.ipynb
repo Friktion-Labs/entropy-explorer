{
 "cells": [
  {
   "cell_type": "markdown",
   "id": "1c81447d",
   "metadata": {},
   "source": [
    "[🥭 Entropy Markets](https://entropy.markets/) support is available at: [Docs](https://docs.entropy.markets/) | [Discord](https://discord.gg/67jySBhxrg) | [Twitter](https://twitter.com/entropymarkets) | [Github](https://github.com/blockworks-foundation) | [Email](mailto:hello@blockworks.foundation)\n",
    "\n",
    "[![Binder](https://mybinder.org/badge_logo.svg)](https://mybinder.org/v2/gh/blockworks-foundation/entropy-explorer-examples/HEAD?labpath=PlaceAndCancelOrder.ipynb) [Run this code](https://mybinder.org/v2/gh/blockworks-foundation/entropy-explorer-examples/HEAD?labpath=PlaceAndCancelOrder.ipynb) on Binder.\n",
    "\n",
    "_🏃‍♀️ To run this notebook press the ⏩ icon in the toolbar above._"
   ]
  },
  {
   "cell_type": "markdown",
   "id": "055fbf67",
   "metadata": {},
   "source": [
    "# 🥭 Place And Cancel Order\n",
    "\n",
    "This notebook shows how to place and cancel an order on a market.\n",
    "\n",
    "This code will place an order on SOL-PERP, wait for it to confirm, and then cancel it.\n",
    "\n",
    "One important thing to note is how the order is tracked. The `order` is built, passed to `place_order()` to place it, and then that same object is passed to `cancel_order()` to cancel it. The ID that ties the order built here and the order on-chain is the `client_id`.\n",
    "\n",
    "A `client_id` is an integer you can specify when you create the `Order` object, and it stays with the order throughout its life. The `client_id` appears in orders on the `OrderBook`, and appears in events in the `EventQueue`. Unlike `id`, you choose what to use as the `client_id`, and you know what it is before the order is placed. (`id` is set by the system and you can't reliably know what it is before you send the order.)\n",
    "\n",
    "If you don't specify a `client_id`, it is set to a timestamp."
   ]
  },
  {
   "cell_type": "code",
   "execution_count": null,
   "id": "88779eaa",
   "metadata": {},
   "outputs": [],
   "source": [
    "import decimal\n",
    "import entropy\n",
    "\n",
    "from solana.publickey import PublicKey\n",
    "\n",
    "# Use our hard-coded mainnet wallet for DeekipCw5jz7UgQbtUbHQckTYGKXWaPQV4xY93DaiM6h.\n",
    "# For real-world use you'd load the bytes from the environment or a file. Later we use\n",
    "# its Entropy Account at AX7P7YXUNj7Ycp5VG5tweZqYngTk4kNFNZ7Zd2XHDrxB.\n",
    "wallet = entropy.Wallet(bytes([181,213,227,47,41,229,109,138,15,82,26,7,230,184,88,102,197,215,238,155,136,196,138,92,98,154,67,68,47,140,90,40,248,149,223,193,241,51,4,196,126,32,211,66,90,137,249,160,132,246,38,29,88,16,252,116,12,83,117,158,40,98,178,54]))\n",
    "\n",
    "with entropy.ContextBuilder.build(cluster_name=\"mainnet\") as context:\n",
    "    group = entropy.Group.load(context)\n",
    "    account = entropy.Account.load(context, PublicKey(\"AX7P7YXUNj7Ycp5VG5tweZqYngTk4kNFNZ7Zd2XHDrxB\"), group)\n",
    "    market_operations = entropy.operations(context, wallet, account, \"SOL-PERP\", dry_run=False)\n",
    "\n",
    "    print(\"Orders (initial):\")\n",
    "    print(market_operations.load_orderbook())\n",
    "\n",
    "    order = entropy.Order.from_values(side=entropy.Side.BUY,\n",
    "                                    price=decimal.Decimal(10),\n",
    "                                    quantity=decimal.Decimal(1),\n",
    "                                    order_type=entropy.OrderType.POST_ONLY,\n",
    "                                    client_id=1001)\n",
    "    print(\"Placing order:\", order)\n",
    "    placed_order_signatures = market_operations.place_order(order)\n",
    "\n",
    "    print(\"Waiting for place order transaction to confirm...\\n\", placed_order_signatures)\n",
    "    entropy.WebSocketTransactionMonitor.wait_for_all(\n",
    "            context.client.cluster_ws_url, placed_order_signatures, commitment=\"processed\"\n",
    "        )\n",
    "\n",
    "    print(\"\\n\\nOrders (including our new order):\")\n",
    "    orderbook = market_operations.load_orderbook()\n",
    "    print(orderbook)\n",
    "\n",
    "    # Order has the client ID 1001 so we can use that Order object as a parameter here.\n",
    "    cancellaton_signatures = market_operations.cancel_order(order)\n",
    "\n",
    "    print(\"Waiting for cancel order transaction to confirm...\\n\", cancellaton_signatures)\n",
    "    entropy.WebSocketTransactionMonitor.wait_for_all(\n",
    "            context.client.cluster_ws_url, cancellaton_signatures, commitment=\"processed\"\n",
    "        )\n",
    "\n",
    "    print(\"\\n\\nOrders (without our order):\")\n",
    "    print(market_operations.load_orderbook())\n",
    "\n",
    "print(\"Example complete.\")"
   ]
  }
 ],
 "metadata": {
  "interpreter": {
   "hash": "ac2eaa0ea0ebeafcc7822e65e46aa9d4f966f30b695406963e145ea4a91cd4fc"
  },
  "kernelspec": {
   "display_name": "Python 3",
   "language": "python",
   "name": "python3"
  },
  "language_info": {
   "codemirror_mode": {
    "name": "ipython",
    "version": 3
   },
   "file_extension": ".py",
   "mimetype": "text/x-python",
   "name": "python",
   "nbconvert_exporter": "python",
   "pygments_lexer": "ipython3",
   "version": "3.9.10"
  },
  "metadata": {
   "interpreter": {
    "hash": "ac2eaa0ea0ebeafcc7822e65e46aa9d4f966f30b695406963e145ea4a91cd4fc"
   }
  },
  "toc": {
   "base_numbering": 1,
   "nav_menu": {},
   "number_sections": true,
   "sideBar": true,
   "skip_h1_title": false,
   "title_cell": "Table of Contents",
   "title_sidebar": "Contents",
   "toc_cell": false,
   "toc_position": {},
   "toc_section_display": true,
   "toc_window_display": true
  },
  "varInspector": {
   "cols": {
    "lenName": 16,
    "lenType": 16,
    "lenVar": 40
   },
   "kernels_config": {
    "python": {
     "delete_cmd_postfix": "",
     "delete_cmd_prefix": "del ",
     "library": "var_list.py",
     "varRefreshCmd": "print(var_dic_list())"
    },
    "r": {
     "delete_cmd_postfix": ") ",
     "delete_cmd_prefix": "rm(",
     "library": "var_list.r",
     "varRefreshCmd": "cat(var_dic_list()) "
    }
   },
   "types_to_exclude": [
    "module",
    "function",
    "builtin_function_or_method",
    "instance",
    "_Feature"
   ],
   "window_display": false
  }
 },
 "nbformat": 4,
 "nbformat_minor": 5
}
