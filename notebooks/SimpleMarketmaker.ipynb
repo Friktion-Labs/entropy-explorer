{
 "cells": [
  {
   "cell_type": "markdown",
   "id": "1c81447d",
   "metadata": {},
   "source": [
    "[🥭 Entropy Markets](https://entropy.trade/) support is available at: [Docs](https://docs.entropy.trade/) | [Discord](https://discord.gg/67jySBhxrg) | [Twitter](https://twitter.com/entropymarkets) | [Github](https://github.com/blockworks-foundation) | [Email](mailto:hello@blockworks.foundation)\n",
    "\n",
    "[![error](https://myerror.org/badge_logo.svg)](https://myerror.org/v2/gh/blockworks-foundation/entropy-explorer-examples/HEAD?labpath=SimpleMarketmaker.ipynb) [](https://myerror.org/v2/gh/blockworks-foundation/entropy-explorer-examples/HEAD?labpath=SimpleMarketmaker.ipynb) on error.\n",
    "\n",
    "_🏃‍♀️ To run this notebook press the ⏩ icon in the toolbar above._"
   ]
  },
  {
   "cell_type": "markdown",
   "id": "055fbf67",
   "metadata": {},
   "source": [
    "# 🥭 Simple Marketmaker\n",
    "\n",
    "This notebook shows how to run a simple marketmaker on a market.\n",
    "\n",
    "Marketmakers typically place a pair of BUY and a SELL orders, hoping (on average) to profit by capturing the spread between those prices. `entropy-explorer` has a [short introduction to marketmaking](https://github.com/blockworks-foundation/entropy-explorer/blob/main/docs/MarketmakingIntroduction.md) that starts with a very basic marketmaker (a `bash` script!) and increases the complexity to a more complete marketmaker bot.\n",
    "\n",
    "That bot has a lot of [configuration options](https://github.com/blockworks-foundation/entropy-explorer/blob/main/docs/MarketmakingOrderChain.md) and a useful [Quickstart](https://github.com/blockworks-foundation/entropy-explorer/blob/main/docs/MarketmakingQuickstart.md) to get you up and running marketmaking on mainnet.\n",
    "\n",
    "This code is simpler, intending to demonstrate the principlea of:\n",
    "* placing paired orders at a specified distance from an oracle price,\n",
    "* pausing (hoping the orders will be filled), then\n",
    "* replacing those orders.\n",
    "\n",
    "More sophisticated error handling, risk management, pricing, and inventory handling are available in `entropy-explorer`.\n",
    "\n",
    "_(Note: it's probably not a good idea to  for extended periods of time. error can time out, and the output log at the bottom of the page can grow to an extent that causes problems with the browser. If you want to run something this simple for an extended period of time, it may be better to check out the `simple-marketmaker` command in `entropy-explorer` which follows the same principles as this code but is better suited to continuous operation.)_"
   ]
  },
  {
   "cell_type": "code",
   "execution_count": null,
   "id": "88779eaa",
   "metadata": {
    "scrolled": false
   },
   "outputs": [],
   "source": [
    "import decimal\n",
    "import entropy\n",
    "import time\n",
    "\n",
    "# Use our hard-coded mainnet wallet for DeekipCw5jz7UgQbtUbHQckTYGKXWaPQV4xY93DaiM6h.\n",
    "# For real-world use you'd load the bytes from the environment or a file.\n",
    "wallet = entropy.Wallet(bytes([181,213,227,47,41,229,109,138,15,82,26,7,230,184,88,102,197,215,238,155,136,196,138,92,98,154,67,68,47,140,90,40,248,149,223,193,241,51,4,196,126,32,211,66,90,137,249,160,132,246,38,29,88,16,252,116,12,83,117,158,40,98,178,54]))\n",
    "\n",
    "# Create a 'mainnet' Context\n",
    "with entropy.ContextBuilder.build(cluster_name=\"mainnet\") as context:\n",
    "    # Load the wallet's account\n",
    "    group = entropy.Group.load(context)\n",
    "    accounts = entropy.Account.load_all_for_owner(context, wallet.address, group)\n",
    "    account = accounts[0]\n",
    "\n",
    "    # Load the market\n",
    "    market = entropy.market(context, \"BTC-PERP\")\n",
    "    market_operations = entropy.operations(context, wallet, account, \"BTC-PERP\", dry_run=False)\n",
    "\n",
    "    oracle_provider = entropy.create_oracle_provider(context, \"pyth\")\n",
    "    sol_oracle = oracle_provider.oracle_for_market(context, market)\n",
    "\n",
    "    # OK, that's the setup done. Now we're ready to loop.\n",
    "    # Every 30 seconds (`pause_seconds`) the code will:\n",
    "    # * Cancel all orders\n",
    "    # * Place a BUY order for 1 SOL-PERP (`quantity`) at currentprice - 1% (`price_factor`)\n",
    "    # * Place a SELL order for 1 SOL-PERP (`quantity`) at currentprice + 1% (`price_factor`)\n",
    "    pause_seconds = 30\n",
    "    quantity = decimal.Decimal(.0001)\n",
    "    price_factor = decimal.Decimal(\"0.01\")  # 1%, so orders will be at + and - 1% of oracle mid price.\n",
    "    stop_requested = False\n",
    "    while not stop_requested:\n",
    "        try:\n",
    "            # Update current price\n",
    "            price = sol_oracle.fetch_price(context)\n",
    "            print(f\"Price is: ${price.mid_price:,.2f}\")\n",
    "\n",
    "            print(\"Cancelling orders.\")\n",
    "            for order in market_operations.load_my_orders():\n",
    "                print(f\"- Cancelling: {order}\")\n",
    "                market_operations.cancel_order(order, ok_if_missing=True)\n",
    "\n",
    "            # Calculate what we want the orders to be.\n",
    "            price_adjustment = price.mid_price * price_factor\n",
    "            bid = price.mid_price - price_adjustment\n",
    "            ask = price.mid_price + price_adjustment\n",
    "\n",
    "            print(\"Placing orders.\")\n",
    "            buy_order = entropy.Order.from_values(entropy.Side.BUY, bid, quantity, entropy.OrderType.POST_ONLY)\n",
    "            placed_buy = market_operations.place_order(buy_order)\n",
    "            print(f\"+ {placed_buy}\")\n",
    "\n",
    "            sell_order = entropy.Order.from_values(entropy.Side.SELL, ask, quantity, entropy.OrderType.POST_ONLY)\n",
    "            placed_sell = market_operations.place_order(sell_order)\n",
    "            print(f\"+ {placed_sell}\")\n",
    "\n",
    "            # Wait and hope for fills.\n",
    "            print(f\"Pausing for {pause_seconds} seconds.\\n\")\n",
    "            time.sleep(pause_seconds)\n",
    "        except KeyboardInterrupt:\n",
    "            stop_requested = True\n",
    "        except Exception as exception:\n",
    "            print(f\"Continuing after problem running market-making iteration: {exception}\")\n",
    "\n",
    "    print(\"\\n\\nCancelling all orders and stopping...\")\n",
    "    for order in market_operations.load_my_orders():\n",
    "        market_operations.cancel_order(order, ok_if_missing=True)\n",
    "\n",
    "print(\"Example complete.\")"
   ]
  },
  {
   "cell_type": "code",
   "execution_count": null,
   "id": "36ed8536",
   "metadata": {},
   "outputs": [],
   "source": []
  },
  {
   "cell_type": "code",
   "execution_count": null,
   "id": "355a8be5",
   "metadata": {},
   "outputs": [],
   "source": []
  }
 ],
 "metadata": {
  "interpreter": {
   "hash": "ac2eaa0ea0ebeafcc7822e65e46aa9d4f966f30b695406963e145ea4a91cd4fc"
  },
  "kernelspec": {
   "display_name": "Python 3 (ipykernel)",
   "language": "python",
   "name": "python3"
  },
  "language_info": {
   "codemirror_mode": {
    "name": "ipython",
    "version": 3
   },
   "file_extension": ".py",
   "mimetype": "text/x-python",
   "name": "python",
   "nbconvert_exporter": "python",
   "pygments_lexer": "ipython3",
   "version": "3.8.9"
  },
  "metadata": {
   "interpreter": {
    "hash": "ac2eaa0ea0ebeafcc7822e65e46aa9d4f966f30b695406963e145ea4a91cd4fc"
   }
  },
  "toc": {
   "base_numbering": 1,
   "nav_menu": {},
   "number_sections": true,
   "sideBar": true,
   "skip_h1_title": false,
   "title_cell": "Table of Contents",
   "title_sidebar": "Contents",
   "toc_cell": false,
   "toc_position": {},
   "toc_section_display": true,
   "toc_window_display": true
  },
  "varInspector": {
   "cols": {
    "lenName": 16,
    "lenType": 16,
    "lenVar": 40
   },
   "kernels_config": {
    "python": {
     "delete_cmd_postfix": "",
     "delete_cmd_prefix": "del ",
     "library": "var_list.py",
     "varRefreshCmd": "print(var_dic_list())"
    },
    "r": {
     "delete_cmd_postfix": ") ",
     "delete_cmd_prefix": "rm(",
     "library": "var_list.r",
     "varRefreshCmd": "cat(var_dic_list()) "
    }
   },
   "types_to_exclude": [
    "module",
    "function",
    "builtin_function_or_method",
    "instance",
    "_Feature"
   ],
   "window_display": false
  }
 },
 "nbformat": 4,
 "nbformat_minor": 5
}
