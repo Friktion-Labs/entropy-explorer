{
 "cells": [
  {
   "cell_type": "markdown",
   "id": "1c81447d",
   "metadata": {},
   "source": [
    "[🥭 Entropy Markets](https://entropy.markets/) support is available at: [Docs](https://docs.entropy.markets/) | [Discord](https://discord.gg/67jySBhxrg) | [Twitter](https://twitter.com/entropymarkets) | [Github](https://github.com/blockworks-foundation) | [Email](mailto:hello@blockworks.foundation)\n",
    "\n",
    "[![Binder](https://mybinder.org/badge_logo.svg)](https://mybinder.org/v2/gh/blockworks-foundation/entropy-explorer-examples/HEAD?labpath=Withdraw.ipynb) [Run this code](https://mybinder.org/v2/gh/blockworks-foundation/entropy-explorer-examples/HEAD?labpath=Withdraw.ipynb) on Binder.\n",
    "\n",
    "_🏃‍♀️ To run this notebook press the ⏩ icon in the toolbar above._"
   ]
  },
  {
   "cell_type": "markdown",
   "id": "055fbf67",
   "metadata": {},
   "source": [
    "# 🥭 Withdraw\n",
    "\n",
    "This code will connect to the _mainnet_ cluster and withdraw 0.1 SOL from a Entropy `Account`.\n",
    "\n",
    "Unlike `deposit()`, you specify an address as the destination. You can withdraw from your Entropy `Account` to anyone's wallet (be careful!). Also, you can withdraw tokens even if you don't own them (as long as you have sufficient collateral) by borrowing them - `withdraw()`'s `allow_borrow` boolean allows or prohibits borrowing tokens the `Account` doesn't own."
   ]
  },
  {
   "cell_type": "code",
   "execution_count": null,
   "id": "88779eaa",
   "metadata": {},
   "outputs": [],
   "source": [
    "import decimal\n",
    "import entropy\n",
    "\n",
    "from solana.publickey import PublicKey\n",
    "\n",
    "\n",
    "# Use our hard-coded mainnet wallet for DeekipCw5jz7UgQbtUbHQckTYGKXWaPQV4xY93DaiM6h.\n",
    "# For real-world use you'd load the bytes from the environment or a file. This wallet\n",
    "# has a Entropy Account at AX7P7YXUNj7Ycp5VG5tweZqYngTk4kNFNZ7Zd2XHDrxB.\n",
    "wallet = entropy.Wallet(bytes([181,213,227,47,41,229,109,138,15,82,26,7,230,184,88,102,197,215,238,155,136,196,138,92,98,154,67,68,47,140,90,40,248,149,223,193,241,51,4,196,126,32,211,66,90,137,249,160,132,246,38,29,88,16,252,116,12,83,117,158,40,98,178,54]))\n",
    "\n",
    "with entropy.ContextBuilder.build(cluster_name=\"mainnet\") as context:\n",
    "    group = entropy.Group.load(context)\n",
    "    account = entropy.Account.load(context, PublicKey(\"AX7P7YXUNj7Ycp5VG5tweZqYngTk4kNFNZ7Zd2XHDrxB\"), group)\n",
    "    sol_token = entropy.token(context, \"SOL\")\n",
    "\n",
    "    print(\"Wrapped SOL in account\", account.slot_by_instrument(sol_token).net_value)\n",
    "\n",
    "    withdraw_value = entropy.InstrumentValue(sol_token, decimal.Decimal(\"0.1\"))\n",
    "    withdrawal_signatures = account.withdraw(context, wallet, wallet.address, withdraw_value, False)\n",
    "    print(\"Waiting for withdraw transaction to confirm...\", withdrawal_signatures)\n",
    "    entropy.WebSocketTransactionMonitor.wait_for_all(\n",
    "            context.client.cluster_ws_url, withdrawal_signatures, commitment=\"processed\"\n",
    "        )\n",
    "\n",
    "    account = entropy.Account.load(context, account.address, group)\n",
    "    print(\"Wrapped SOL after withdrawal\", account.slot_by_instrument(sol_token).net_value)\n",
    "\n",
    "print(\"Example complete.\")"
   ]
  }
 ],
 "metadata": {
  "interpreter": {
   "hash": "ac2eaa0ea0ebeafcc7822e65e46aa9d4f966f30b695406963e145ea4a91cd4fc"
  },
  "kernelspec": {
   "display_name": "Python 3 (ipykernel)",
   "language": "python",
   "name": "python3"
  },
  "language_info": {
   "codemirror_mode": {
    "name": "ipython",
    "version": 3
   },
   "file_extension": ".py",
   "mimetype": "text/x-python",
   "name": "python",
   "nbconvert_exporter": "python",
   "pygments_lexer": "ipython3",
   "version": "3.9.10"
  },
  "metadata": {
   "interpreter": {
    "hash": "ac2eaa0ea0ebeafcc7822e65e46aa9d4f966f30b695406963e145ea4a91cd4fc"
   }
  },
  "toc": {
   "base_numbering": 1,
   "nav_menu": {},
   "number_sections": true,
   "sideBar": true,
   "skip_h1_title": false,
   "title_cell": "Table of Contents",
   "title_sidebar": "Contents",
   "toc_cell": false,
   "toc_position": {},
   "toc_section_display": true,
   "toc_window_display": true
  },
  "varInspector": {
   "cols": {
    "lenName": 16,
    "lenType": 16,
    "lenVar": 40
   },
   "kernels_config": {
    "python": {
     "delete_cmd_postfix": "",
     "delete_cmd_prefix": "del ",
     "library": "var_list.py",
     "varRefreshCmd": "print(var_dic_list())"
    },
    "r": {
     "delete_cmd_postfix": ") ",
     "delete_cmd_prefix": "rm(",
     "library": "var_list.r",
     "varRefreshCmd": "cat(var_dic_list()) "
    }
   },
   "types_to_exclude": [
    "module",
    "function",
    "builtin_function_or_method",
    "instance",
    "_Feature"
   ],
   "window_display": false
  }
 },
 "nbformat": 4,
 "nbformat_minor": 5
}
