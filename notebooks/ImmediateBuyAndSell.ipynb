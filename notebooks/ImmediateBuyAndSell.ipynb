{
 "cells": [
  {
   "cell_type": "markdown",
   "id": "1c81447d",
   "metadata": {},
   "source": [
    "[🥭 Entropy Markets](https://entropy.trade/) support is available at: [Docs](https://docs.entropy.trade/) | [Discord](https://discord.gg/67jySBhxrg) | [Twitter](https://twitter.com/entropymarkets) | [Github](https://github.com/blockworks-foundation) | [Email](mailto:hello@blockworks.foundation)\n",
    "\n",
    "[![error](https://myerror.org/badge_logo.svg)](https://myerror.org/v2/gh/blockworks-foundation/entropy-explorer-examples/HEAD?labpath=ImmediateBuyAndSell.ipynb) [](https://myerror.org/v2/gh/blockworks-foundation/entropy-explorer-examples/HEAD?labpath=ImmediateBuyAndSell.ipynb) on error.\n",
    "\n",
    "_🏃‍♀️ To run this notebook press the ⏩ icon in the toolbar above._"
   ]
  },
  {
   "cell_type": "markdown",
   "id": "055fbf67",
   "metadata": {},
   "source": [
    "# 🥭 Immediate Buy and Sell\n",
    "\n",
    "This notebook shows how to buy and sell from the current orderbook, rather than placing orders to be executed later.\n",
    "\n",
    "This example will SELL 1 SOL on SOL/USDC and then BUY it back.\n",
    "\n",
    "The code uses 'Immediate Or Cancel' (IOC) orders. Orders of this type never appear on the orderbook - they exist to explicitly 'take' orders from the orderbook. If it's not possible to fulfill the IOC order quantity at the specified price, it is cancelled.\n"
   ]
  },
  {
   "cell_type": "code",
   "execution_count": null,
   "id": "88779eaa",
   "metadata": {},
   "outputs": [],
   "source": [
    "import decimal\n",
    "import entropy\n",
    "\n",
    "\n",
    "# Use this function to display balances because it always fetches fresh data\n",
    "def show_balances(context, wallet, group):\n",
    "    # Find the wrapped SOL token\n",
    "    sol_token = context.instrument_lookup.find_by_symbol_or_raise(\"SOL\")\n",
    "\n",
    "    # Find the current SPL token balance\n",
    "    token_account = entropy.TokenAccount.fetch_largest_for_owner_and_token(context, wallet.address, sol_token)\n",
    "    print(\"Wrapped SOL in wallet:\", token_account.value)\n",
    "\n",
    "    # Find the SOL-specific details in the account\n",
    "    accounts = entropy.Account.load_all_for_owner(context, wallet.address, group)\n",
    "    for slot in accounts[0].slots:\n",
    "        if slot.base_instrument == sol_token:\n",
    "            print(\"SOL in account:       \", slot.net_value)\n",
    "            print(\"USDC in account:      \", accounts[0].shared_quote.net_value)\n",
    "            print()\n",
    "            return\n",
    "\n",
    "\n",
    "# Use our hard-coded mainnet wallet for DeekipCw5jz7UgQbtUbHQckTYGKXWaPQV4xY93DaiM6h.\n",
    "# For real-world use you'd load the bytes from the environment or a file.\n",
    "wallet = entropy.Wallet(bytes([181,213,227,47,41,229,109,138,15,82,26,7,230,184,88,102,197,215,238,155,136,196,138,92,98,154,67,68,47,140,90,40,248,149,223,193,241,51,4,196,126,32,211,66,90,137,249,160,132,246,38,29,88,16,252,116,12,83,117,158,40,98,178,54]))\n",
    "\n",
    "# Create a 'mainnet' Context\n",
    "with entropy.ContextBuilder.build(cluster_name=\"mainnet\") as context:\n",
    "    # Load the wallet's account\n",
    "    group = entropy.Group.load(context)\n",
    "    accounts = entropy.Account.load_all_for_owner(context, wallet.address, group)\n",
    "    account = accounts[0]\n",
    "\n",
    "    max_slippage = decimal.Decimal(\"0.005\")  # Allow at most 0.5% slippage from top-of-book\n",
    "    quantity = decimal.Decimal(1)\n",
    "\n",
    "    print(\"Initial balances before trades:\")\n",
    "    show_balances(context, wallet, group)\n",
    "\n",
    "    market_operations = entropy.operations(context, wallet, account, \"SOL/USDC\", dry_run=False)\n",
    "\n",
    "    sell_signatures = market_operations.market_sell(quantity, max_slippage)\n",
    "    print(\"IOC SELL transaction signatures:\", sell_signatures)\n",
    "\n",
    "    print(\"Waiting for sell transaction to confirm...\\n\")\n",
    "    entropy.WebSocketTransactionMonitor.wait_for_all(\n",
    "            context.client.cluster_ws_url, sell_signatures, commitment=\"processed\"\n",
    "        )\n",
    "\n",
    "    show_balances(context, wallet, group)\n",
    "\n",
    "    buy_signatures = market_operations.market_buy(quantity, max_slippage)\n",
    "    print(\"IOC BUY transaction signatures:\", buy_signatures)\n",
    "\n",
    "    print(\"Waiting for buy transaction to confirm...\\n\")\n",
    "    entropy.WebSocketTransactionMonitor.wait_for_all(\n",
    "            context.client.cluster_ws_url, buy_signatures, commitment=\"processed\"\n",
    "        )\n",
    "\n",
    "    show_balances(context, wallet, group)\n",
    "\n",
    "print(\"Example complete.\")"
   ]
  }
 ],
 "metadata": {
  "interpreter": {
   "hash": "ac2eaa0ea0ebeafcc7822e65e46aa9d4f966f30b695406963e145ea4a91cd4fc"
  },
  "kernelspec": {
   "display_name": "Python 3",
   "language": "python",
   "name": "python3"
  },
  "language_info": {
   "codemirror_mode": {
    "name": "ipython",
    "version": 3
   },
   "file_extension": ".py",
   "mimetype": "text/x-python",
   "name": "python",
   "nbconvert_exporter": "python",
   "pygments_lexer": "ipython3",
   "version": "3.9.10"
  },
  "metadata": {
   "interpreter": {
    "hash": "ac2eaa0ea0ebeafcc7822e65e46aa9d4f966f30b695406963e145ea4a91cd4fc"
   }
  },
  "toc": {
   "base_numbering": 1,
   "nav_menu": {},
   "number_sections": true,
   "sideBar": true,
   "skip_h1_title": false,
   "title_cell": "Table of Contents",
   "title_sidebar": "Contents",
   "toc_cell": false,
   "toc_position": {},
   "toc_section_display": true,
   "toc_window_display": true
  },
  "varInspector": {
   "cols": {
    "lenName": 16,
    "lenType": 16,
    "lenVar": 40
   },
   "kernels_config": {
    "python": {
     "delete_cmd_postfix": "",
     "delete_cmd_prefix": "del ",
     "library": "var_list.py",
     "varRefreshCmd": "print(var_dic_list())"
    },
    "r": {
     "delete_cmd_postfix": ") ",
     "delete_cmd_prefix": "rm(",
     "library": "var_list.r",
     "varRefreshCmd": "cat(var_dic_list()) "
    }
   },
   "types_to_exclude": [
    "module",
    "function",
    "builtin_function_or_method",
    "instance",
    "_Feature"
   ],
   "window_display": false
  }
 },
 "nbformat": 4,
 "nbformat_minor": 5
}
