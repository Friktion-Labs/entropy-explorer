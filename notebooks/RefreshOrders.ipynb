{
 "cells": [
  {
   "cell_type": "markdown",
   "id": "1c81447d",
   "metadata": {},
   "source": [
    "[🥭 Entropy Markets](https://entropy.trade/) support is available at: [Docs](https://docs.entropy.trade/) | [Discord](https://discord.gg/67jySBhxrg) | [Twitter](https://twitter.com/entropymarkets) | [Github](https://github.com/blockworks-foundation) | [Email](mailto:hello@blockworks.foundation)\n",
    "\n",
    "[![error](https://myerror.org/badge_logo.svg)](https://myerror.org/v2/gh/blockworks-foundation/entropy-explorer-examples/HEAD?labpath=PlaceAndCancelOrder.ipynb) [](https://myerror.org/v2/gh/blockworks-foundation/entropy-explorer-examples/HEAD?labpath=PlaceAndCancelOrder.ipynb) on error.\n",
    "\n",
    "_🏃‍♀️ To run this notebook press the ⏩ icon in the toolbar above._"
   ]
  },
  {
   "cell_type": "markdown",
   "id": "055fbf67",
   "metadata": {},
   "source": [
    "# 🥭 Refresh Orders\n",
    "\n",
    "Solana's transaction mechanism allows for atomic cancel-and-replace of orders - either the entire transaction succeeds (old orders are cancelled, new orders are placed), or the entire transaction fails (no orders are cancelled, no orders are placed).\n",
    "\n",
    "Neither Serum nor Entropy supports 'editing' or changing an order - to change the price or quantity for an order you must cancel it and replace it with an order with updated values.\n",
    "\n",
    "This code will loop 3 times around:\n",
    "* in one transaction: cancelling all perp orders and placing bid and ask perp orders on SOL-PERP\n",
    "* wait for that transaction to confirm\n",
    "* pause for 5 seconds\n",
    "\n",
    "You can verify the transaction signatures in [Solana Explorer](https://explorer.solana.com/?cluster=mainnet) to see there is a single transaction containing a `CancelAllPerpOrders` instruction followed by two `PlacePerpOrder2` instructions. Since they're all in the same transaction, they will all succeed or all fail - if any instruction fails, the previous instructions are not committed to the chain, as if they never happened."
   ]
  },
  {
   "cell_type": "code",
   "execution_count": null,
   "id": "88779eaa",
   "metadata": {},
   "outputs": [],
   "source": [
    "import decimal\n",
    "import entropy\n",
    "import time\n",
    "\n",
    "from solana.publickey import PublicKey\n",
    "\n",
    "# Use our hard-coded mainnet wallet for DeekipCw5jz7UgQbtUbHQckTYGKXWaPQV4xY93DaiM6h.\n",
    "# For real-world use you'd load the bytes from the environment or a file. Later we use\n",
    "# its Entropy Account at AX7P7YXUNj7Ycp5VG5tweZqYngTk4kNFNZ7Zd2XHDrxB.\n",
    "wallet = entropy.Wallet(bytes([181,213,227,47,41,229,109,138,15,82,26,7,230,184,88,102,197,215,238,155,136,196,138,92,98,154,67,68,47,140,90,40,248,149,223,193,241,51,4,196,126,32,211,66,90,137,249,160,132,246,38,29,88,16,252,116,12,83,117,158,40,98,178,54]))\n",
    "\n",
    "with entropy.ContextBuilder.build(cluster_name=\"mainnet\") as context:\n",
    "    group = entropy.Group.load(context)\n",
    "    account = entropy.Account.load(context, PublicKey(\"AX7P7YXUNj7Ycp5VG5tweZqYngTk4kNFNZ7Zd2XHDrxB\"), group)\n",
    "    market_operations = entropy.operations(context, wallet, account, \"SOL-PERP\", dry_run=False)\n",
    "    market_instructions: entropy.PerpMarketInstructionBuilder = entropy.instruction_builder(context, wallet, account, \"SOL-PERP\", dry_run=False)\n",
    "\n",
    "    signers: entropy.CombinableInstructions = entropy.CombinableInstructions.from_wallet(wallet)\n",
    "\n",
    "    for counter in range(3):\n",
    "        print(\"\\n\\nOrders:\")\n",
    "        orderbook = market_operations.load_orderbook()\n",
    "        print(orderbook)\n",
    "\n",
    "        instructions = signers\n",
    "        instructions += market_instructions.build_cancel_all_orders_instructions()\n",
    "        buy = entropy.Order.from_values(side=entropy.Side.BUY,\n",
    "                                      price=orderbook.top_bid.price,\n",
    "                                      quantity=decimal.Decimal(1),\n",
    "                                      order_type=entropy.OrderType.POST_ONLY,\n",
    "                                      client_id=counter+10)\n",
    "        print(buy)\n",
    "        instructions += market_instructions.build_place_order_instructions(buy)\n",
    "        sell = entropy.Order.from_values(side=entropy.Side.SELL,\n",
    "                                       price=orderbook.top_ask.price,\n",
    "                                       quantity=decimal.Decimal(1),\n",
    "                                       order_type=entropy.OrderType.POST_ONLY,\n",
    "                                       client_id=counter+20)\n",
    "        print(sell)\n",
    "        instructions += market_instructions.build_place_order_instructions(sell)\n",
    "\n",
    "        signatures = instructions.execute(context)\n",
    "\n",
    "        print(\"Waiting for refresh order transaction to confirm...\\n\", signatures)\n",
    "        entropy.WebSocketTransactionMonitor.wait_for_all(\n",
    "                context.client.cluster_ws_url, signatures, commitment=\"processed\"\n",
    "            )\n",
    "\n",
    "        print(\"Sleeping for 5 seconds...\")\n",
    "        time.sleep(5)\n",
    "\n",
    "print(\"Cleaning up...\")\n",
    "instructions = signers\n",
    "instructions += market_instructions.build_cancel_all_orders_instructions()\n",
    "\n",
    "cleanup_signatures = instructions.execute(context)\n",
    "\n",
    "print(\"Waiting for cleanup transaction to confirm...\\n\", cleanup_signatures)\n",
    "entropy.WebSocketTransactionMonitor.wait_for_all(\n",
    "        context.client.cluster_ws_url, cleanup_signatures, commitment=\"processed\"\n",
    "    )\n",
    "\n",
    "print(\"Example complete.\")"
   ]
  }
 ],
 "metadata": {
  "interpreter": {
   "hash": "ac2eaa0ea0ebeafcc7822e65e46aa9d4f966f30b695406963e145ea4a91cd4fc"
  },
  "kernelspec": {
   "display_name": "Python 3",
   "language": "python",
   "name": "python3"
  },
  "language_info": {
   "codemirror_mode": {
    "name": "ipython",
    "version": 3
   },
   "file_extension": ".py",
   "mimetype": "text/x-python",
   "name": "python",
   "nbconvert_exporter": "python",
   "pygments_lexer": "ipython3",
   "version": "3.9.10"
  },
  "metadata": {
   "interpreter": {
    "hash": "ac2eaa0ea0ebeafcc7822e65e46aa9d4f966f30b695406963e145ea4a91cd4fc"
   }
  },
  "toc": {
   "base_numbering": 1,
   "nav_menu": {},
   "number_sections": true,
   "sideBar": true,
   "skip_h1_title": false,
   "title_cell": "Table of Contents",
   "title_sidebar": "Contents",
   "toc_cell": false,
   "toc_position": {},
   "toc_section_display": true,
   "toc_window_display": true
  },
  "varInspector": {
   "cols": {
    "lenName": 16,
    "lenType": 16,
    "lenVar": 40
   },
   "kernels_config": {
    "python": {
     "delete_cmd_postfix": "",
     "delete_cmd_prefix": "del ",
     "library": "var_list.py",
     "varRefreshCmd": "print(var_dic_list())"
    },
    "r": {
     "delete_cmd_postfix": ") ",
     "delete_cmd_prefix": "rm(",
     "library": "var_list.r",
     "varRefreshCmd": "cat(var_dic_list()) "
    }
   },
   "types_to_exclude": [
    "module",
    "function",
    "builtin_function_or_method",
    "instance",
    "_Feature"
   ],
   "window_display": false
  }
 },
 "nbformat": 4,
 "nbformat_minor": 5
}
